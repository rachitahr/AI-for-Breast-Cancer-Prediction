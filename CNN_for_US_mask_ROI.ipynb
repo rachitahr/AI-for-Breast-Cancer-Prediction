{
 "cells": [
  {
   "cell_type": "code",
   "execution_count": 1,
   "metadata": {},
   "outputs": [],
   "source": [
    "# Breast Cancer prediction from Ultrasound images\n",
    "## CNN 2 layers on binary mask and extracted ROI"
   ]
  },
  {
   "cell_type": "code",
   "execution_count": 2,
   "metadata": {},
   "outputs": [],
   "source": [
    "# # import libraries\n",
    "import pandas as pd\n",
    "import numpy as np\n",
    "import matplotlib\n",
    "import matplotlib.pyplot as plt\n",
    "%matplotlib inline\n",
    "from IPython.core.interactiveshell import InteractiveShell  \n",
    "InteractiveShell.ast_node_interactivity = \"all\"\n",
    "import warnings\n",
    "warnings.filterwarnings(\"ignore\")\n",
    "import seaborn as sb\n",
    "import tensorflow as tf\n",
    "from tensorflow import keras\n",
    "from tensorflow.keras.models import Sequential\n",
    "from tensorflow.keras.layers import Dense, Conv2D, MaxPooling2D, Flatten\n",
    "from tensorflow.keras.callbacks import EarlyStopping, ModelCheckpoint"
   ]
  },
  {
   "cell_type": "code",
   "execution_count": 21,
   "metadata": {},
   "outputs": [],
   "source": [
    "#callbacks\n",
    "\n",
    "keras_callbacks   = [\n",
    "      EarlyStopping(monitor='accuracy', patience=5, mode='max', min_delta=0.0001),\n",
    "      ModelCheckpoint('./output', monitor='val_loss', save_best_only=True, mode='min')\n",
    "]"
   ]
  },
  {
   "cell_type": "markdown",
   "metadata": {},
   "source": [
    "# 3 layer CNN 3 layer neural network"
   ]
  },
  {
   "cell_type": "code",
   "execution_count": 4,
   "metadata": {},
   "outputs": [],
   "source": [
    "def create_CNN():   \n",
    "    # Initialising the CNN\n",
    "    tumor_classifier = Sequential()\n",
    "\n",
    "    # Convolution\n",
    "    tumor_classifier.add(Conv2D(64, (3, 3), input_shape = (256, 256, 1), activation = 'relu'))\n",
    "\n",
    "    # Pooling\n",
    "    tumor_classifier.add(MaxPooling2D(pool_size = (2, 2)))\n",
    "\n",
    "    # Adding a second convolutional layer\n",
    "    tumor_classifier.add(Conv2D(64, (3, 3), activation = 'relu'))\n",
    "\n",
    "    tumor_classifier.add(MaxPooling2D(pool_size = (2, 2)))\n",
    "\n",
    "    # Adding a third convolutional layer\n",
    "    tumor_classifier.add(Conv2D(32, (3, 3), activation = 'relu'))\n",
    "\n",
    "    tumor_classifier.add(MaxPooling2D(pool_size = (2, 2)))\n",
    "\n",
    "\n",
    "    # Flattening\n",
    "    tumor_classifier.add(Flatten())\n",
    "\n",
    "    # CNN network\n",
    "    tumor_classifier.add(Dense(units = 1024, activation = 'relu'))\n",
    "    tumor_classifier.add(Dense(units = 512, activation = 'relu'))\n",
    "    tumor_classifier.add(Dense(units = 258, activation = 'relu'))\n",
    "    tumor_classifier.add(Dense(units = 2, activation = 'sigmoid'))\n",
    "\n",
    "    # Compiling the CNN\n",
    "    tumor_classifier.compile(optimizer = 'adam', loss = 'binary_crossentropy', metrics = ['accuracy','AUC'])\n",
    "    return(tumor_classifier)"
   ]
  },
  {
   "cell_type": "code",
   "execution_count": 5,
   "metadata": {},
   "outputs": [],
   "source": [
    "# load dataset\n",
    "\n",
    "from tensorflow.keras.preprocessing.image import ImageDataGenerator\n",
    "\n",
    "def prepare_data(train_dir,test_dir):\n",
    "\n",
    "    train_datagen = ImageDataGenerator(rescale = 1/255.,\n",
    "                                       shear_range = 0.2,\n",
    "                                       zoom_range = 0.2,\n",
    "                                       horizontal_flip = True)\n",
    "\n",
    "    test_datagen = ImageDataGenerator(rescale = 1/255.)\n",
    "\n",
    "    train_set = train_datagen.flow_from_directory(train_dir,\n",
    "                                                     target_size = (256, 256),\n",
    "                                                     batch_size = 5,\n",
    "                                                     class_mode = 'categorical',\n",
    "                                                     color_mode='grayscale',\n",
    "                                                     shuffle=True)\n",
    "\n",
    "    test_set = test_datagen.flow_from_directory(test_dir,\n",
    "                                                target_size = (256, 256),\n",
    "                                                batch_size = 5,\n",
    "                                                class_mode = 'categorical',\n",
    "                                                color_mode='grayscale',\n",
    "                                                shuffle=True)\n",
    "    return(train_set,test_set)\n"
   ]
  },
  {
   "cell_type": "code",
   "execution_count": 6,
   "metadata": {},
   "outputs": [
    {
     "data": {
      "text/plain": [
       "462"
      ]
     },
     "execution_count": 6,
     "metadata": {},
     "output_type": "execute_result"
    },
    {
     "data": {
      "text/plain": [
       "185"
      ]
     },
     "execution_count": 6,
     "metadata": {},
     "output_type": "execute_result"
    }
   ],
   "source": [
    "import glob\n",
    "train_sample_size = len(glob.glob('US_DL_mask/Train/*/*.png'))\n",
    "test_sample_size = len(glob.glob('US_DL_mask/Test/*/*.png'))\n",
    "train_sample_size\n",
    "test_sample_size"
   ]
  },
  {
   "cell_type": "code",
   "execution_count": 22,
   "metadata": {},
   "outputs": [
    {
     "name": "stdout",
     "output_type": "stream",
     "text": [
      "Found 462 images belonging to 2 classes.\n",
      "Found 185 images belonging to 2 classes.\n",
      "Epoch 1/30\n",
      "46/46 [==============================] - 46s 976ms/step - loss: 0.6990 - accuracy: 0.5883 - auc: 0.5723 - val_loss: 0.6202 - val_accuracy: 0.6667 - val_auc: 0.7447\n",
      "INFO:tensorflow:Assets written to: ./output/assets\n",
      "Epoch 2/30\n",
      "46/46 [==============================] - 45s 967ms/step - loss: 0.6060 - accuracy: 0.6908 - auc: 0.7469 - val_loss: 0.6142 - val_accuracy: 0.7778 - val_auc: 0.8025\n",
      "INFO:tensorflow:Assets written to: ./output/assets\n",
      "Epoch 3/30\n",
      "46/46 [==============================] - 51s 1s/step - loss: 0.5710 - accuracy: 0.7680 - auc: 0.8208 - val_loss: 0.6095 - val_accuracy: 0.7222 - val_auc: 0.7654\n",
      "INFO:tensorflow:Assets written to: ./output/assets\n",
      "Epoch 4/30\n",
      "46/46 [==============================] - 50s 1s/step - loss: 0.5141 - accuracy: 0.7412 - auc: 0.8272 - val_loss: 0.6425 - val_accuracy: 0.6778 - val_auc: 0.7283\n",
      "Epoch 5/30\n",
      "46/46 [==============================] - 63s 1s/step - loss: 0.4804 - accuracy: 0.7914 - auc: 0.8510 - val_loss: 0.6062 - val_accuracy: 0.6889 - val_auc: 0.7568\n",
      "INFO:tensorflow:Assets written to: ./output/assets\n",
      "Epoch 6/30\n",
      "46/46 [==============================] - 56s 1s/step - loss: 0.6454 - accuracy: 0.6501 - auc: 0.6914 - val_loss: 0.5996 - val_accuracy: 0.6889 - val_auc: 0.7506\n",
      "INFO:tensorflow:Assets written to: ./output/assets\n",
      "Epoch 7/30\n",
      "46/46 [==============================] - 49s 1s/step - loss: 0.4976 - accuracy: 0.7147 - auc: 0.8234 - val_loss: 0.5551 - val_accuracy: 0.7222 - val_auc: 0.8075\n",
      "INFO:tensorflow:Assets written to: ./output/assets\n",
      "Epoch 8/30\n",
      "46/46 [==============================] - 60s 1s/step - loss: 0.4718 - accuracy: 0.7470 - auc: 0.8495 - val_loss: 0.6316 - val_accuracy: 0.6778 - val_auc: 0.7251\n",
      "Epoch 9/30\n",
      "46/46 [==============================] - 48s 1s/step - loss: 0.5128 - accuracy: 0.7926 - auc: 0.8249 - val_loss: 0.7262 - val_accuracy: 0.7000 - val_auc: 0.7147\n",
      "Epoch 10/30\n",
      "46/46 [==============================] - 55s 1s/step - loss: 0.4432 - accuracy: 0.8181 - auc: 0.8749 - val_loss: 0.4477 - val_accuracy: 0.8111 - val_auc: 0.8785\n",
      "INFO:tensorflow:Assets written to: ./output/assets\n",
      "Epoch 11/30\n",
      "46/46 [==============================] - 63s 1s/step - loss: 0.4267 - accuracy: 0.7796 - auc: 0.8806 - val_loss: 0.8351 - val_accuracy: 0.7556 - val_auc: 0.8101\n",
      "Epoch 12/30\n",
      "46/46 [==============================] - 51s 1s/step - loss: 0.4277 - accuracy: 0.8396 - auc: 0.8915 - val_loss: 0.7812 - val_accuracy: 0.7444 - val_auc: 0.8034\n",
      "Epoch 13/30\n",
      "46/46 [==============================] - 51s 1s/step - loss: 0.4134 - accuracy: 0.7890 - auc: 0.8888 - val_loss: 0.6288 - val_accuracy: 0.7556 - val_auc: 0.8156\n",
      "Epoch 14/30\n",
      "46/46 [==============================] - 53s 1s/step - loss: 0.4474 - accuracy: 0.8535 - auc: 0.8972 - val_loss: 0.5734 - val_accuracy: 0.8111 - val_auc: 0.8172\n",
      "Epoch 15/30\n",
      "46/46 [==============================] - 53s 1s/step - loss: 0.3463 - accuracy: 0.8608 - auc: 0.9290 - val_loss: 0.6394 - val_accuracy: 0.7889 - val_auc: 0.8032\n",
      "Epoch 16/30\n",
      "46/46 [==============================] - 44s 957ms/step - loss: 0.3629 - accuracy: 0.8599 - auc: 0.9372 - val_loss: 0.4792 - val_accuracy: 0.8556 - val_auc: 0.8864\n",
      "Epoch 17/30\n",
      "46/46 [==============================] - 68s 1s/step - loss: 0.3598 - accuracy: 0.8490 - auc: 0.9219 - val_loss: 1.0188 - val_accuracy: 0.7444 - val_auc: 0.7877\n",
      "Epoch 18/30\n",
      "46/46 [==============================] - 44s 955ms/step - loss: 0.3055 - accuracy: 0.8944 - auc: 0.9423 - val_loss: 0.4760 - val_accuracy: 0.8111 - val_auc: 0.8460\n",
      "Epoch 19/30\n",
      "46/46 [==============================] - 44s 968ms/step - loss: 0.3409 - accuracy: 0.8844 - auc: 0.9287 - val_loss: 0.6770 - val_accuracy: 0.8111 - val_auc: 0.8015\n",
      "Epoch 20/30\n",
      "46/46 [==============================] - 48s 1s/step - loss: 0.2143 - accuracy: 0.9213 - auc: 0.9741 - val_loss: 0.6306 - val_accuracy: 0.7889 - val_auc: 0.8363\n",
      "Epoch 21/30\n",
      "46/46 [==============================] - 51s 1s/step - loss: 0.3136 - accuracy: 0.8667 - auc: 0.9438 - val_loss: 0.6197 - val_accuracy: 0.8667 - val_auc: 0.8752\n",
      "Epoch 22/30\n",
      "46/46 [==============================] - 51s 1s/step - loss: 0.2813 - accuracy: 0.9031 - auc: 0.9542 - val_loss: 0.8489 - val_accuracy: 0.7778 - val_auc: 0.8297\n",
      "Epoch 23/30\n",
      "46/46 [==============================] - 55s 1s/step - loss: 0.3142 - accuracy: 0.8554 - auc: 0.9440 - val_loss: 0.6678 - val_accuracy: 0.7889 - val_auc: 0.8256\n",
      "Epoch 24/30\n",
      "46/46 [==============================] - 47s 1s/step - loss: 0.2467 - accuracy: 0.8925 - auc: 0.9648 - val_loss: 0.6040 - val_accuracy: 0.7556 - val_auc: 0.8298\n",
      "Epoch 25/30\n",
      "46/46 [==============================] - 47s 1s/step - loss: 0.3991 - accuracy: 0.8203 - auc: 0.8977 - val_loss: 1.0934 - val_accuracy: 0.7778 - val_auc: 0.7835\n",
      "Epoch 26/30\n",
      "46/46 [==============================] - 47s 1s/step - loss: 0.2408 - accuracy: 0.9298 - auc: 0.9670 - val_loss: 0.5939 - val_accuracy: 0.8000 - val_auc: 0.8527\n",
      "Epoch 27/30\n",
      "46/46 [==============================] - 47s 1s/step - loss: 0.2252 - accuracy: 0.9076 - auc: 0.9732 - val_loss: 0.8600 - val_accuracy: 0.8111 - val_auc: 0.8456\n",
      "Epoch 28/30\n",
      "46/46 [==============================] - 46s 1s/step - loss: 0.2414 - accuracy: 0.9127 - auc: 0.9656 - val_loss: 0.7922 - val_accuracy: 0.8000 - val_auc: 0.8248\n",
      "Epoch 29/30\n",
      "46/46 [==============================] - 46s 1s/step - loss: 0.1863 - accuracy: 0.9220 - auc: 0.9790 - val_loss: 1.0001 - val_accuracy: 0.7111 - val_auc: 0.7615\n",
      "Epoch 30/30\n",
      "46/46 [==============================] - 48s 1s/step - loss: 0.3119 - accuracy: 0.8861 - auc: 0.9407 - val_loss: 0.9232 - val_accuracy: 0.8444 - val_auc: 0.8064\n"
     ]
    },
    {
     "data": {
      "text/plain": [
       "<tensorflow.python.keras.callbacks.History at 0x1a5b213a50>"
      ]
     },
     "execution_count": 22,
     "metadata": {},
     "output_type": "execute_result"
    }
   ],
   "source": [
    "batch_size=10\n",
    "tumor_classifier=create_CNN()\n",
    "\n",
    "train_set,test_set = prepare_data('US_DL_mask/Train/','US_DL_mask/Test/')\n",
    "\n",
    "#fit model\n",
    "tumor_classifier.fit_generator(train_set,\n",
    "                         steps_per_epoch = train_sample_size//batch_size,\n",
    "                         epochs = 30,\n",
    "                         validation_data = test_set,\n",
    "                         validation_steps = test_sample_size//batch_size,\n",
    "                               callbacks=keras_callbacks)"
   ]
  },
  {
   "cell_type": "code",
   "execution_count": 29,
   "metadata": {},
   "outputs": [],
   "source": [
    "#save model\n",
    "tumor_classifier.save('CNN2L_US_mask_BC.h5') # creates a HDF5 file ‘my_model.h5’"
   ]
  },
  {
   "cell_type": "code",
   "execution_count": 53,
   "metadata": {},
   "outputs": [],
   "source": [
    "#predict\n",
    "from tensorflow.keras.models import load_model\n",
    "mymodel1 = load_model('CNN2L_US_mask_BC.h5')\n",
    "predictions = mymodel1.predict_generator(test_set, steps=test_steps_per_epoch)\n",
    "# Get most likely class\n",
    "predicted_classes = np.argmax(predictions, axis=1)"
   ]
  },
  {
   "cell_type": "code",
   "execution_count": 10,
   "metadata": {},
   "outputs": [],
   "source": [
    "#preds = tumor_classifier.predict(test_set)"
   ]
  },
  {
   "cell_type": "code",
   "execution_count": 54,
   "metadata": {},
   "outputs": [
    {
     "data": {
      "text/plain": [
       "['malignant', 'benign']"
      ]
     },
     "execution_count": 54,
     "metadata": {},
     "output_type": "execute_result"
    },
    {
     "data": {
      "text/plain": [
       "['benign', 'malignant']"
      ]
     },
     "execution_count": 54,
     "metadata": {},
     "output_type": "execute_result"
    }
   ],
   "source": [
    "true_classes = test_set.classes\n",
    "class_labels = list(test_set.class_indices.keys()) \n",
    "class_labels[::-1]\n",
    "class_labels"
   ]
  },
  {
   "cell_type": "code",
   "execution_count": 55,
   "metadata": {},
   "outputs": [
    {
     "name": "stdout",
     "output_type": "stream",
     "text": [
      "              precision    recall  f1-score   support\n",
      "\n",
      "      benign       0.70      0.73      0.71       124\n",
      "   malignant       0.39      0.36      0.38        61\n",
      "\n",
      "    accuracy                           0.61       185\n",
      "   macro avg       0.55      0.54      0.54       185\n",
      "weighted avg       0.60      0.61      0.60       185\n",
      "\n"
     ]
    },
    {
     "data": {
      "text/plain": [
       "<Figure size 600x600 with 0 Axes>"
      ]
     },
     "execution_count": 55,
     "metadata": {},
     "output_type": "execute_result"
    },
    {
     "data": {
      "text/plain": [
       "<matplotlib.axes._subplots.AxesSubplot at 0x1a60bf7250>"
      ]
     },
     "execution_count": 55,
     "metadata": {},
     "output_type": "execute_result"
    },
    {
     "data": {
      "text/plain": [
       "Text(16.44444444444444, 0.5, 'True Classes')"
      ]
     },
     "execution_count": 55,
     "metadata": {},
     "output_type": "execute_result"
    },
    {
     "data": {
      "text/plain": [
       "Text(0.5, 16.444444444444446, 'Predicted Classes')"
      ]
     },
     "execution_count": 55,
     "metadata": {},
     "output_type": "execute_result"
    },
    {
     "data": {
      "image/png": "[encoded data removed]",
      "text/plain": [
       "<Figure size 600x600 with 2 Axes>"
      ]
     },
     "metadata": {
      "needs_background": "light"
     },
     "output_type": "display_data"
    }
   ],
   "source": [
    "\n",
    "from sklearn.metrics import classification_report,confusion_matrix\n",
    "report = classification_report(true_classes, predicted_classes, target_names=class_labels)\n",
    "print(report) \n",
    "plt.figure(figsize=(3,3),dpi=200)\n",
    "sb.heatmap(confusion_matrix(true_classes, predicted_classes),annot=True,cmap='GnBu',xticklabels=class_labels,\n",
    "           yticklabels=class_labels)\n",
    "plt.ylabel('True Classes')\n",
    "plt.xlabel('Predicted Classes')\n",
    "plt.tight_layout()\n",
    "plt.savefig('CM_US_CNN_mask.png')\n",
    "plt.show()"
   ]
  },
  {
   "cell_type": "code",
   "execution_count": 33,
   "metadata": {},
   "outputs": [
    {
     "data": {
      "text/html": [
       "<div>\n",
       "<style scoped>\n",
       "    .dataframe tbody tr th:only-of-type {\n",
       "        vertical-align: middle;\n",
       "    }\n",
       "\n",
       "    .dataframe tbody tr th {\n",
       "        vertical-align: top;\n",
       "    }\n",
       "\n",
       "    .dataframe thead th {\n",
       "        text-align: right;\n",
       "    }\n",
       "</style>\n",
       "<table border=\"1\" class=\"dataframe\">\n",
       "  <thead>\n",
       "    <tr style=\"text-align: right;\">\n",
       "      <th></th>\n",
       "      <th>Image</th>\n",
       "      <th>Actual</th>\n",
       "      <th>Predicted</th>\n",
       "    </tr>\n",
       "  </thead>\n",
       "  <tbody>\n",
       "    <tr>\n",
       "      <th>0</th>\n",
       "      <td>benign/benign (1)_mask.png</td>\n",
       "      <td>benign</td>\n",
       "      <td>benign</td>\n",
       "    </tr>\n",
       "    <tr>\n",
       "      <th>1</th>\n",
       "      <td>benign/benign (106)_mask.png</td>\n",
       "      <td>benign</td>\n",
       "      <td>malignant</td>\n",
       "    </tr>\n",
       "    <tr>\n",
       "      <th>2</th>\n",
       "      <td>benign/benign (107)_mask.png</td>\n",
       "      <td>benign</td>\n",
       "      <td>benign</td>\n",
       "    </tr>\n",
       "    <tr>\n",
       "      <th>3</th>\n",
       "      <td>benign/benign (110)_mask.png</td>\n",
       "      <td>benign</td>\n",
       "      <td>benign</td>\n",
       "    </tr>\n",
       "    <tr>\n",
       "      <th>4</th>\n",
       "      <td>benign/benign (111)_mask.png</td>\n",
       "      <td>benign</td>\n",
       "      <td>benign</td>\n",
       "    </tr>\n",
       "  </tbody>\n",
       "</table>\n",
       "</div>"
      ],
      "text/plain": [
       "                          Image  Actual  Predicted\n",
       "0    benign/benign (1)_mask.png  benign     benign\n",
       "1  benign/benign (106)_mask.png  benign  malignant\n",
       "2  benign/benign (107)_mask.png  benign     benign\n",
       "3  benign/benign (110)_mask.png  benign     benign\n",
       "4  benign/benign (111)_mask.png  benign     benign"
      ]
     },
     "execution_count": 33,
     "metadata": {},
     "output_type": "execute_result"
    }
   ],
   "source": [
    "#identify correct and wrong predictions per image\n",
    "df_pred=pd.DataFrame(columns=['Image','Actual','Predicted'])\n",
    "df_pred['Image']=test_set.filenames\n",
    "df_pred['Actual']=test_set.classes\n",
    "df_pred['Predicted']=predicted_classes\n",
    "rep_dict={v:k for k, v in test_set.class_indices.items()}\n",
    "df_pred.Actual.replace(rep_dict,inplace=True)\n",
    "df_pred.Predicted.replace(rep_dict,inplace=True)\n",
    "df_pred.head()"
   ]
  },
  {
   "cell_type": "code",
   "execution_count": 35,
   "metadata": {},
   "outputs": [
    {
     "data": {
      "text/plain": [
       "<matplotlib.image.AxesImage at 0x1a5cce1f50>"
      ]
     },
     "execution_count": 35,
     "metadata": {},
     "output_type": "execute_result"
    },
    {
     "name": "stdout",
     "output_type": "stream",
     "text": [
      "(1, 256, 256, 1)\n",
      "{'benign': 0, 'malignant': 1}\n",
      "The test image is belongs to the class:  1.0\n"
     ]
    },
    {
     "data": {
      "image/png": "[encoded data removed]",
      "text/plain": [
       "<Figure size 432x288 with 1 Axes>"
      ]
     },
     "metadata": {
      "needs_background": "light"
     },
     "output_type": "display_data"
    }
   ],
   "source": [
    "#model example prediction\n",
    "\n",
    "import numpy as np\n",
    "from tensorflow.keras.preprocessing import image\n",
    "test_image = image.load_img('US_DL_mask/Test/benign/benign (110)_mask.png', target_size = (256, 256),grayscale=True)\n",
    "plt.imshow(test_image,cmap='gray')\n",
    "test_image = image.img_to_array(test_image)\n",
    "test_image = np.expand_dims(test_image, axis = 0)\n",
    "print(test_image.shape)\n",
    "print(train_set.class_indices)\n",
    "result = mymodel.predict(test_image)\n",
    "print('The test image is belongs to the class: ',result[0][0])"
   ]
  },
  {
   "cell_type": "code",
   "execution_count": 36,
   "metadata": {},
   "outputs": [
    {
     "data": {
      "text/plain": [
       "<matplotlib.image.AxesImage at 0x1a5c6899d0>"
      ]
     },
     "execution_count": 36,
     "metadata": {},
     "output_type": "execute_result"
    },
    {
     "name": "stdout",
     "output_type": "stream",
     "text": [
      "(1, 256, 256, 1)\n",
      "{'benign': 0, 'malignant': 1}\n",
      "The test image is belongs to the class:  1.0\n"
     ]
    },
    {
     "data": {
      "image/png": "[encoded data removed]",
      "text/plain": [
       "<Figure size 432x288 with 1 Axes>"
      ]
     },
     "metadata": {
      "needs_background": "light"
     },
     "output_type": "display_data"
    }
   ],
   "source": [
    "#malignant example\n",
    "test_image = image.load_img('US_DL_mask/Test/malignant/malignant (100)_mask.png', target_size = (256, 256),grayscale=True)\n",
    "plt.imshow(test_image,cmap='gray')\n",
    "test_image = image.img_to_array(test_image)\n",
    "test_image = np.expand_dims(test_image, axis = 0)\n",
    "print(test_image.shape)\n",
    "print(train_set.class_indices)\n",
    "result = mymodel.predict(test_image)\n",
    "print('The test image is belongs to the class: ',result[0][0])"
   ]
  },
  {
   "cell_type": "markdown",
   "metadata": {},
   "source": [
    "# Same 3 layer CNN on extracted ROI "
   ]
  },
  {
   "cell_type": "code",
   "execution_count": 37,
   "metadata": {},
   "outputs": [
    {
     "name": "stdout",
     "output_type": "stream",
     "text": [
      "Found 462 images belonging to 2 classes.\n",
      "Found 185 images belonging to 2 classes.\n",
      "Epoch 1/30\n",
      "92/92 [==============================] - 107s 1s/step - loss: 0.8327 - accuracy: 0.6533 - auc: 0.6515 - val_loss: 0.5768 - val_accuracy: 0.6703 - val_auc: 0.7645\n",
      "Epoch 2/30\n",
      "92/92 [==============================] - 107s 1s/step - loss: 0.5908 - accuracy: 0.7481 - auc: 0.7707 - val_loss: 0.6392 - val_accuracy: 0.7243 - val_auc: 0.7704\n",
      "Epoch 3/30\n",
      "92/92 [==============================] - 106s 1s/step - loss: 0.5874 - accuracy: 0.7016 - auc: 0.7706 - val_loss: 0.6070 - val_accuracy: 0.6703 - val_auc: 0.7345\n",
      "Epoch 4/30\n",
      "92/92 [==============================] - 110s 1s/step - loss: 0.5553 - accuracy: 0.7293 - auc: 0.7947 - val_loss: 0.5620 - val_accuracy: 0.7297 - val_auc: 0.7807\n",
      "Epoch 5/30\n",
      "92/92 [==============================] - 109s 1s/step - loss: 0.5181 - accuracy: 0.7415 - auc: 0.8268 - val_loss: 0.7487 - val_accuracy: 0.6324 - val_auc: 0.7018\n",
      "Epoch 6/30\n",
      "92/92 [==============================] - 92s 1s/step - loss: 0.5187 - accuracy: 0.7630 - auc: 0.8331 - val_loss: 0.6128 - val_accuracy: 0.7027 - val_auc: 0.7863\n",
      "Epoch 7/30\n",
      "92/92 [==============================] - 91s 989ms/step - loss: 0.6294 - accuracy: 0.6634 - auc: 0.7124 - val_loss: 0.6841 - val_accuracy: 0.7243 - val_auc: 0.7906\n",
      "Epoch 8/30\n",
      "92/92 [==============================] - 86s 938ms/step - loss: 0.5474 - accuracy: 0.7385 - auc: 0.8167 - val_loss: 0.6415 - val_accuracy: 0.7297 - val_auc: 0.7707\n",
      "Epoch 9/30\n",
      "92/92 [==============================] - 89s 973ms/step - loss: 0.5121 - accuracy: 0.7807 - auc: 0.8481 - val_loss: 0.7116 - val_accuracy: 0.7081 - val_auc: 0.7530\n",
      "Epoch 10/30\n",
      "92/92 [==============================] - 96s 1s/step - loss: 0.5190 - accuracy: 0.7737 - auc: 0.8234 - val_loss: 0.5950 - val_accuracy: 0.7135 - val_auc: 0.7692\n",
      "Epoch 11/30\n",
      "92/92 [==============================] - 82s 893ms/step - loss: 0.4615 - accuracy: 0.8268 - auc: 0.8716 - val_loss: 0.5575 - val_accuracy: 0.7351 - val_auc: 0.8012\n",
      "Epoch 12/30\n",
      "92/92 [==============================] - 86s 933ms/step - loss: 0.4599 - accuracy: 0.8050 - auc: 0.8730 - val_loss: 0.7162 - val_accuracy: 0.7622 - val_auc: 0.8148\n",
      "Epoch 13/30\n",
      "92/92 [==============================] - 93s 1s/step - loss: 0.4102 - accuracy: 0.8330 - auc: 0.8924 - val_loss: 0.5397 - val_accuracy: 0.7189 - val_auc: 0.8320\n",
      "Epoch 14/30\n",
      "92/92 [==============================] - 102s 1s/step - loss: 0.4542 - accuracy: 0.7922 - auc: 0.8667 - val_loss: 0.7159 - val_accuracy: 0.7514 - val_auc: 0.8171\n",
      "Epoch 15/30\n",
      "92/92 [==============================] - 97s 1s/step - loss: 0.3567 - accuracy: 0.8430 - auc: 0.9216 - val_loss: 0.7450 - val_accuracy: 0.7297 - val_auc: 0.8255\n",
      "Epoch 16/30\n",
      "92/92 [==============================] - 99s 1s/step - loss: 0.4491 - accuracy: 0.7973 - auc: 0.8796 - val_loss: 1.0068 - val_accuracy: 0.7622 - val_auc: 0.7992\n",
      "Epoch 17/30\n",
      "92/92 [==============================] - 107s 1s/step - loss: 0.3957 - accuracy: 0.8434 - auc: 0.9070 - val_loss: 0.5366 - val_accuracy: 0.7297 - val_auc: 0.8220\n",
      "Epoch 18/30\n",
      "92/92 [==============================] - 97s 1s/step - loss: 0.3633 - accuracy: 0.8624 - auc: 0.9189 - val_loss: 0.7020 - val_accuracy: 0.7676 - val_auc: 0.8322\n",
      "Epoch 19/30\n",
      "92/92 [==============================] - 100s 1s/step - loss: 0.2961 - accuracy: 0.8719 - auc: 0.9463 - val_loss: 0.5915 - val_accuracy: 0.7622 - val_auc: 0.8378\n",
      "Epoch 20/30\n",
      "92/92 [==============================] - 86s 933ms/step - loss: 0.3502 - accuracy: 0.8516 - auc: 0.9237 - val_loss: 0.5313 - val_accuracy: 0.7459 - val_auc: 0.8288\n",
      "Epoch 21/30\n",
      "92/92 [==============================] - 79s 862ms/step - loss: 0.3660 - accuracy: 0.8569 - auc: 0.9229 - val_loss: 0.6367 - val_accuracy: 0.7676 - val_auc: 0.8406\n",
      "Epoch 22/30\n",
      "92/92 [==============================] - 100s 1s/step - loss: 0.2640 - accuracy: 0.8778 - auc: 0.9579 - val_loss: 0.7669 - val_accuracy: 0.8000 - val_auc: 0.8620\n",
      "Epoch 23/30\n",
      "92/92 [==============================] - 94s 1s/step - loss: 0.2680 - accuracy: 0.8631 - auc: 0.9556 - val_loss: 0.8482 - val_accuracy: 0.7730 - val_auc: 0.8543\n",
      "Epoch 24/30\n",
      "92/92 [==============================] - 100s 1s/step - loss: 0.2615 - accuracy: 0.8899 - auc: 0.9572 - val_loss: 0.8598 - val_accuracy: 0.7946 - val_auc: 0.8583\n",
      "Epoch 25/30\n",
      "92/92 [==============================] - 98s 1s/step - loss: 0.2932 - accuracy: 0.8767 - auc: 0.9492 - val_loss: 0.6584 - val_accuracy: 0.8000 - val_auc: 0.8717\n",
      "Epoch 26/30\n",
      "92/92 [==============================] - 88s 953ms/step - loss: 0.2719 - accuracy: 0.9042 - auc: 0.9562 - val_loss: 0.6007 - val_accuracy: 0.8000 - val_auc: 0.8649\n",
      "Epoch 27/30\n",
      "92/92 [==============================] - 83s 903ms/step - loss: 0.2637 - accuracy: 0.8873 - auc: 0.9551 - val_loss: 0.6643 - val_accuracy: 0.7892 - val_auc: 0.8618\n",
      "Epoch 28/30\n",
      "92/92 [==============================] - 97s 1s/step - loss: 0.2315 - accuracy: 0.8971 - auc: 0.9677 - val_loss: 1.4323 - val_accuracy: 0.7784 - val_auc: 0.8301\n",
      "Epoch 29/30\n",
      "92/92 [==============================] - 104s 1s/step - loss: 0.3594 - accuracy: 0.8542 - auc: 0.9248 - val_loss: 0.6864 - val_accuracy: 0.8162 - val_auc: 0.8842\n",
      "Epoch 30/30\n",
      "92/92 [==============================] - 159s 2s/step - loss: 0.1969 - accuracy: 0.9088 - auc: 0.9751 - val_loss: 0.6964 - val_accuracy: 0.8000 - val_auc: 0.8691\n"
     ]
    },
    {
     "data": {
      "text/plain": [
       "<tensorflow.python.keras.callbacks.History at 0x1a5cc4dd90>"
      ]
     },
     "execution_count": 37,
     "metadata": {},
     "output_type": "execute_result"
    }
   ],
   "source": [
    "#same cnn call function\n",
    "model_ROI = create_CNN()\n",
    "\n",
    "batch_size=5\n",
    "\n",
    "\n",
    "train_set,test_set = prepare_data('US_DL_roi/Train/','US_DL_roi/Test/')\n",
    "\n",
    "#fit model\n",
    "model_ROI.fit_generator(train_set,\n",
    "                         steps_per_epoch = train_sample_size//batch_size,\n",
    "                         epochs = 30,\n",
    "                         validation_data = test_set,\n",
    "                         validation_steps = test_sample_size//batch_size,\n",
    "                             callbacks=keras_callbacks)\n",
    "#plt.plot(history)\n",
    "#save model\n",
    "model_ROI.save('CNN3L_US_roi_BC.h5') # creates a HDF5 file ‘my_model.h5’"
   ]
  },
  {
   "cell_type": "code",
   "execution_count": 45,
   "metadata": {},
   "outputs": [
    {
     "data": {
      "text/plain": [
       "['malignant', 'benign']"
      ]
     },
     "execution_count": 45,
     "metadata": {},
     "output_type": "execute_result"
    },
    {
     "data": {
      "text/plain": [
       "['benign', 'malignant']"
      ]
     },
     "execution_count": 45,
     "metadata": {},
     "output_type": "execute_result"
    },
    {
     "name": "stdout",
     "output_type": "stream",
     "text": [
      "              precision    recall  f1-score   support\n",
      "\n",
      "      benign       0.68      0.68      0.68       124\n",
      "   malignant       0.35      0.36      0.36        61\n",
      "\n",
      "    accuracy                           0.57       185\n",
      "   macro avg       0.52      0.52      0.52       185\n",
      "weighted avg       0.57      0.57      0.57       185\n",
      "\n"
     ]
    },
    {
     "data": {
      "text/plain": [
       "<Figure size 600x600 with 0 Axes>"
      ]
     },
     "execution_count": 45,
     "metadata": {},
     "output_type": "execute_result"
    },
    {
     "data": {
      "text/plain": [
       "<matplotlib.axes._subplots.AxesSubplot at 0x1a6613cc10>"
      ]
     },
     "execution_count": 45,
     "metadata": {},
     "output_type": "execute_result"
    },
    {
     "data": {
      "text/plain": [
       "Text(16.44444444444444, 0.5, 'True Classes')"
      ]
     },
     "execution_count": 45,
     "metadata": {},
     "output_type": "execute_result"
    },
    {
     "data": {
      "text/plain": [
       "Text(0.5, 16.444444444444446, 'Predicted Classes')"
      ]
     },
     "execution_count": 45,
     "metadata": {},
     "output_type": "execute_result"
    },
    {
     "data": {
      "image/png": "[encoded data removed]",
      "text/plain": [
       "<Figure size 600x600 with 2 Axes>"
      ]
     },
     "metadata": {
      "needs_background": "light"
     },
     "output_type": "display_data"
    }
   ],
   "source": [
    "#predict\n",
    "from tensorflow.keras.models import load_model\n",
    "mymodel = load_model('CNN3L_US_roi_BC.h5')\n",
    "predictions = mymodel1.predict_generator(test_set, steps=test_steps_per_epoch)\n",
    "# Get most likely class\n",
    "predicted_classes = np.argmax(predictions, axis=1)\n",
    "# Evaluation\n",
    "\n",
    "true_classes = test_set.classes\n",
    "class_labels = list(test_set.class_indices.keys()) \n",
    "class_labels[::-1]\n",
    "class_labels\n",
    "\n",
    "report = classification_report(true_classes, predicted_classes, target_names=class_labels)\n",
    "print(report) \n",
    "plt.figure(figsize=(3,3),dpi=200)\n",
    "sb.heatmap(confusion_matrix(true_classes, predicted_classes),annot=True,cmap='GnBu',xticklabels=class_labels,\n",
    "           yticklabels=class_labels)\n",
    "plt.ylabel('True Classes')\n",
    "plt.xlabel('Predicted Classes')\n",
    "plt.tight_layout()\n",
    "plt.savefig('CM_US_CNN_roi.png')\n",
    "plt.show()"
   ]
  },
  {
   "cell_type": "code",
   "execution_count": null,
   "metadata": {},
   "outputs": [],
   "source": [
    "Image segmentation extracting features are important to correctly identify tumor type using deep learning frameworks when data set is small.\n",
    "Machine learning approaches for extracted features."
   ]
  }
 ],
 "metadata": {
  "kernelspec": {
   "display_name": "Python 3",
   "language": "python",
   "name": "python3"
  },
  "language_info": {
   "codemirror_mode": {
    "name": "ipython",
    "version": 3
   },
   "file_extension": ".py",
   "mimetype": "text/x-python",
   "name": "python",
   "nbconvert_exporter": "python",
   "pygments_lexer": "ipython3",
   "version": "3.7.6"
  }
 },
 "nbformat": 4,
 "nbformat_minor": 4
}
